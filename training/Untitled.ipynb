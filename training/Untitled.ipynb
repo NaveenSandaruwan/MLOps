{
 "cells": [
  {
   "cell_type": "code",
   "execution_count": 1,
   "id": "a8ddec49",
   "metadata": {},
   "outputs": [],
   "source": [
    "import pandas as pd"
   ]
  },
  {
   "cell_type": "code",
   "execution_count": 2,
   "id": "df4c0f57",
   "metadata": {},
   "outputs": [],
   "source": [
    "import pickle"
   ]
  },
  {
   "cell_type": "code",
   "execution_count": 3,
   "id": "2ff60635",
   "metadata": {},
   "outputs": [],
   "source": [
    "from sklearn.feature_extraction import DictVectorizer\n",
    "from sklearn.metrics import mean_squared_error"
   ]
  },
  {
   "cell_type": "code",
   "execution_count": 4,
   "id": "4bbc2499",
   "metadata": {},
   "outputs": [],
   "source": [
    "def read_dataframe(filename):\n",
    "    df = pd.read_parquet(filename)\n",
    "\n",
    "    df['duration'] = df.lpep_dropoff_datetime - df.lpep_pickup_datetime\n",
    "    df.duration = df.duration.apply(lambda td: td.total_seconds() / 60)\n",
    "\n",
    "    df = df[(df.duration >= 1) & (df.duration <= 60)]\n",
    "\n",
    "    categorical = ['PULocationID', 'DOLocationID']\n",
    "    df[categorical] = df[categorical].astype(str)\n",
    "\n",
    "    df['PU_DO'] = df['PULocationID'] + '_' + df['DOLocationID']\n",
    "\n",
    "    return df"
   ]
  },
  {
   "cell_type": "code",
   "execution_count": 5,
   "id": "3d2c0c94",
   "metadata": {},
   "outputs": [],
   "source": [
    "df_train = read_dataframe('https://d37ci6vzurychx.cloudfront.net/trip-data/green_tripdata_2021-01.parquet')\n",
    "df_val = read_dataframe('https://d37ci6vzurychx.cloudfront.net/trip-data/green_tripdata_2021-02.parquet')"
   ]
  },
  {
   "cell_type": "code",
   "execution_count": 6,
   "id": "fc6db4f8",
   "metadata": {},
   "outputs": [],
   "source": [
    "categorical = ['PU_DO'] #'PULocationID', 'DOLocationID']\n",
    "numerical = ['trip_distance']\n",
    "\n",
    "dv = DictVectorizer()\n",
    "\n",
    "train_dicts = df_train[categorical + numerical].to_dict(orient='records')\n",
    "X_train = dv.fit_transform(train_dicts)\n",
    "\n",
    "val_dicts = df_val[categorical + numerical].to_dict(orient='records')\n",
    "X_val = dv.transform(val_dicts)"
   ]
  },
  {
   "cell_type": "code",
   "execution_count": 7,
   "id": "bda2dfb8",
   "metadata": {},
   "outputs": [],
   "source": [
    "target = 'duration'\n",
    "y_train = df_train[target].values\n",
    "y_val = df_val[target].values"
   ]
  },
  {
   "cell_type": "code",
   "execution_count": 8,
   "id": "6a45d931",
   "metadata": {},
   "outputs": [],
   "source": [
    "import xgboost as xgb"
   ]
  },
  {
   "cell_type": "code",
   "execution_count": 9,
   "id": "48113ea8",
   "metadata": {},
   "outputs": [],
   "source": [
    "from pathlib import Path"
   ]
  },
  {
   "cell_type": "code",
   "execution_count": 10,
   "id": "b279bc8b",
   "metadata": {},
   "outputs": [],
   "source": [
    "models_folder = Path('models')\n",
    "models_folder.mkdir(exist_ok=True)"
   ]
  },
  {
   "cell_type": "code",
   "execution_count": 11,
   "id": "a5213e0e",
   "metadata": {},
   "outputs": [
    {
     "name": "stderr",
     "output_type": "stream",
     "text": [
      "2025/07/17 17:33:19 INFO mlflow.store.db.utils: Creating initial MLflow database tables...\n",
      "2025/07/17 17:33:19 INFO mlflow.store.db.utils: Updating database tables\n",
      "INFO  [alembic.runtime.migration] Context impl SQLiteImpl.\n",
      "INFO  [alembic.runtime.migration] Will assume non-transactional DDL.\n",
      "INFO  [alembic.runtime.migration] Context impl SQLiteImpl.\n",
      "INFO  [alembic.runtime.migration] Will assume non-transactional DDL.\n",
      "2025/07/17 17:33:19 INFO mlflow.tracking.fluent: Experiment with name 'test03' does not exist. Creating a new experiment.\n"
     ]
    },
    {
     "data": {
      "text/plain": [
       "<Experiment: artifact_location='/workspaces/MLOps/training/mlruns/4', creation_time=1752773599685, experiment_id='4', last_update_time=1752773599685, lifecycle_stage='active', name='test03', tags={}>"
      ]
     },
     "execution_count": 11,
     "metadata": {},
     "output_type": "execute_result"
    }
   ],
   "source": [
    "import mlflow\n",
    "\n",
    "# mlflow.set_tracking_uri(\"sqlite:////workspaces/MLOps/training/mlflow.db\")\n",
    "# mlflow.set_experiment(\"test03\")"
   ]
  },
  {
   "cell_type": "code",
   "execution_count": 13,
   "id": "f7b2b195",
   "metadata": {},
   "outputs": [
    {
     "name": "stderr",
     "output_type": "stream",
     "text": [
      "/home/codespace/anaconda3/lib/python3.9/site-packages/xgboost/core.py:158: UserWarning: [17:47:47] WARNING: /workspace/src/objective/regression_obj.cu:227: reg:linear is now deprecated in favor of reg:squarederror.\n",
      "  warnings.warn(smsg, UserWarning)\n"
     ]
    },
    {
     "name": "stdout",
     "output_type": "stream",
     "text": [
      "[0]\tvalidation-rmse:12.13190\n",
      "[1]\tvalidation-rmse:12.05174\n",
      "[2]\tvalidation-rmse:11.97262\n",
      "[3]\tvalidation-rmse:11.89453\n",
      "[4]\tvalidation-rmse:11.81743\n",
      "[5]\tvalidation-rmse:11.74133\n",
      "[6]\tvalidation-rmse:11.66627\n",
      "[7]\tvalidation-rmse:11.59210\n",
      "[8]\tvalidation-rmse:11.51902\n",
      "[9]\tvalidation-rmse:11.44677\n",
      "[10]\tvalidation-rmse:11.37554\n",
      "[11]\tvalidation-rmse:11.30515\n",
      "[12]\tvalidation-rmse:11.23571\n",
      "[13]\tvalidation-rmse:11.16721\n",
      "[14]\tvalidation-rmse:11.09963\n",
      "[15]\tvalidation-rmse:11.03296\n",
      "[16]\tvalidation-rmse:10.96721\n",
      "[17]\tvalidation-rmse:10.90224\n",
      "[18]\tvalidation-rmse:10.83825\n",
      "[19]\tvalidation-rmse:10.77504\n",
      "[20]\tvalidation-rmse:10.71262\n",
      "[21]\tvalidation-rmse:10.65113\n",
      "[22]\tvalidation-rmse:10.59047\n",
      "[23]\tvalidation-rmse:10.53064\n",
      "[24]\tvalidation-rmse:10.47168\n",
      "[25]\tvalidation-rmse:10.41351\n",
      "[26]\tvalidation-rmse:10.35608\n",
      "[27]\tvalidation-rmse:10.29946\n",
      "[28]\tvalidation-rmse:10.24370\n",
      "[29]\tvalidation-rmse:10.18871\n"
     ]
    },
    {
     "name": "stderr",
     "output_type": "stream",
     "text": [
      "2025/07/17 17:48:32 WARNING mlflow.models.model: `artifact_path` is deprecated. Please use `name` instead.\n",
      "/home/codespace/anaconda3/lib/python3.9/site-packages/xgboost/core.py:158: UserWarning: [17:48:32] WARNING: /workspace/src/c_api/c_api.cc:1374: Saving model in the UBJSON format as default.  You can use file extension: `json`, `ubj` or `deprecated` to choose between formats.\n",
      "  warnings.warn(smsg, UserWarning)\n",
      "2025/07/17 17:48:34 WARNING mlflow.utils.environment: Encountered an unexpected error while inferring pip requirements (model URI: /tmp/tmpxui51bu6/model, flavor: xgboost). Fall back to return ['xgboost==2.1.4']. Set logging level to DEBUG to see the full traceback. \n",
      "\u001b[31m2025/07/17 17:48:34 WARNING mlflow.models.model: Model logged without a signature and input example. Please set `input_example` parameter when logging the model to auto infer the model signature.\u001b[0m\n",
      "/home/codespace/anaconda3/lib/python3.9/site-packages/xgboost/core.py:158: UserWarning: [17:48:34] WARNING: /workspace/src/objective/regression_obj.cu:227: reg:linear is now deprecated in favor of reg:squarederror.\n",
      "  warnings.warn(smsg, UserWarning)\n"
     ]
    },
    {
     "name": "stdout",
     "output_type": "stream",
     "text": [
      "[0]\tvalidation-rmse:11.41214\n",
      "[1]\tvalidation-rmse:10.71494\n",
      "[2]\tvalidation-rmse:10.10951\n",
      "[3]\tvalidation-rmse:9.58848\n",
      "[4]\tvalidation-rmse:9.13814\n",
      "[5]\tvalidation-rmse:8.75229\n",
      "[6]\tvalidation-rmse:8.42253\n",
      "[7]\tvalidation-rmse:8.14331\n",
      "[8]\tvalidation-rmse:7.90431\n",
      "[9]\tvalidation-rmse:7.70214\n",
      "[10]\tvalidation-rmse:7.53185\n",
      "[11]\tvalidation-rmse:7.38625\n",
      "[12]\tvalidation-rmse:7.26296\n",
      "[13]\tvalidation-rmse:7.15897\n",
      "[14]\tvalidation-rmse:7.07113\n",
      "[15]\tvalidation-rmse:6.99730\n",
      "[16]\tvalidation-rmse:6.93339\n",
      "[17]\tvalidation-rmse:6.88000\n",
      "[18]\tvalidation-rmse:6.83341\n",
      "[19]\tvalidation-rmse:6.79391\n",
      "[20]\tvalidation-rmse:6.75888\n",
      "[21]\tvalidation-rmse:6.72947\n",
      "[22]\tvalidation-rmse:6.70372\n",
      "[23]\tvalidation-rmse:6.68119\n",
      "[24]\tvalidation-rmse:6.66175\n",
      "[25]\tvalidation-rmse:6.64508\n",
      "[26]\tvalidation-rmse:6.63008\n",
      "[27]\tvalidation-rmse:6.61629\n",
      "[28]\tvalidation-rmse:6.60422\n",
      "[29]\tvalidation-rmse:6.59343\n"
     ]
    },
    {
     "name": "stderr",
     "output_type": "stream",
     "text": [
      "2025/07/17 17:49:07 WARNING mlflow.models.model: `artifact_path` is deprecated. Please use `name` instead.\n",
      "/home/codespace/anaconda3/lib/python3.9/site-packages/xgboost/core.py:158: UserWarning: [17:49:07] WARNING: /workspace/src/c_api/c_api.cc:1374: Saving model in the UBJSON format as default.  You can use file extension: `json`, `ubj` or `deprecated` to choose between formats.\n",
      "  warnings.warn(smsg, UserWarning)\n",
      "2025/07/17 17:49:09 WARNING mlflow.utils.environment: Encountered an unexpected error while inferring pip requirements (model URI: /tmp/tmps5t08v2p/model, flavor: xgboost). Fall back to return ['xgboost==2.1.4']. Set logging level to DEBUG to see the full traceback. \n",
      "\u001b[31m2025/07/17 17:49:10 WARNING mlflow.models.model: Model logged without a signature and input example. Please set `input_example` parameter when logging the model to auto infer the model signature.\u001b[0m\n",
      "/home/codespace/anaconda3/lib/python3.9/site-packages/xgboost/core.py:158: UserWarning: [17:49:10] WARNING: /workspace/src/objective/regression_obj.cu:227: reg:linear is now deprecated in favor of reg:squarederror.\n",
      "  warnings.warn(smsg, UserWarning)\n"
     ]
    },
    {
     "name": "stdout",
     "output_type": "stream",
     "text": [
      "[0]\tvalidation-rmse:10.63945\n",
      "[1]\tvalidation-rmse:9.47628\n",
      "[2]\tvalidation-rmse:8.63028\n",
      "[3]\tvalidation-rmse:8.02696\n",
      "[4]\tvalidation-rmse:7.60037\n",
      "[5]\tvalidation-rmse:7.29939\n",
      "[6]\tvalidation-rmse:7.08604\n",
      "[7]\tvalidation-rmse:6.93732\n",
      "[8]\tvalidation-rmse:6.83199\n",
      "[9]\tvalidation-rmse:6.75769\n",
      "[10]\tvalidation-rmse:6.70059\n",
      "[11]\tvalidation-rmse:6.65816\n",
      "[12]\tvalidation-rmse:6.62545\n",
      "[13]\tvalidation-rmse:6.60130\n",
      "[14]\tvalidation-rmse:6.58387\n",
      "[15]\tvalidation-rmse:6.56888\n",
      "[16]\tvalidation-rmse:6.55571\n",
      "[17]\tvalidation-rmse:6.54750\n",
      "[18]\tvalidation-rmse:6.53968\n",
      "[19]\tvalidation-rmse:6.53460\n",
      "[20]\tvalidation-rmse:6.52952\n",
      "[21]\tvalidation-rmse:6.52637\n",
      "[22]\tvalidation-rmse:6.52392\n",
      "[23]\tvalidation-rmse:6.52301\n",
      "[24]\tvalidation-rmse:6.52088\n",
      "[25]\tvalidation-rmse:6.51809\n",
      "[26]\tvalidation-rmse:6.51682\n",
      "[27]\tvalidation-rmse:6.51466\n",
      "[28]\tvalidation-rmse:6.51249\n",
      "[29]\tvalidation-rmse:6.51077\n"
     ]
    },
    {
     "name": "stderr",
     "output_type": "stream",
     "text": [
      "2025/07/17 17:49:28 WARNING mlflow.models.model: `artifact_path` is deprecated. Please use `name` instead.\n",
      "/home/codespace/anaconda3/lib/python3.9/site-packages/xgboost/core.py:158: UserWarning: [17:49:28] WARNING: /workspace/src/c_api/c_api.cc:1374: Saving model in the UBJSON format as default.  You can use file extension: `json`, `ubj` or `deprecated` to choose between formats.\n",
      "  warnings.warn(smsg, UserWarning)\n",
      "2025/07/17 17:49:31 WARNING mlflow.utils.environment: Encountered an unexpected error while inferring pip requirements (model URI: /tmp/tmpsubw4ozo/model, flavor: xgboost). Fall back to return ['xgboost==2.1.4']. Set logging level to DEBUG to see the full traceback. \n",
      "\u001b[31m2025/07/17 17:49:31 WARNING mlflow.models.model: Model logged without a signature and input example. Please set `input_example` parameter when logging the model to auto infer the model signature.\u001b[0m\n"
     ]
    }
   ],
   "source": [
    "import mlflow\n",
    "import xgboost as xgb\n",
    "import pickle\n",
    "from sklearn.metrics import mean_squared_error\n",
    "\n",
    "mlflow.set_tracking_uri(\"sqlite:////workspaces/MLOps/training/mlflow.db\")\n",
    "mlflow.set_experiment(\"test03\")\n",
    "\n",
    "for lr in [0.01, 0.1, 0.2]:  # Try 3 different learning rates\n",
    "    with mlflow.start_run():\n",
    "        params = {\n",
    "            'learning_rate': lr,\n",
    "            'max_depth': 30,\n",
    "            'min_child_weight': 1.06,\n",
    "            'objective': 'reg:linear',\n",
    "            'reg_alpha': 0.018,\n",
    "            'reg_lambda': 0.011,\n",
    "            'seed': 42\n",
    "        }\n",
    "\n",
    "        mlflow.log_params(params)\n",
    "\n",
    "        train = xgb.DMatrix(X_train, label=y_train)\n",
    "        valid = xgb.DMatrix(X_val, label=y_val)\n",
    "\n",
    "        booster = xgb.train(\n",
    "            params=params,\n",
    "            dtrain=train,\n",
    "            num_boost_round=30,\n",
    "            evals=[(valid, 'validation')],\n",
    "            early_stopping_rounds=50\n",
    "        )\n",
    "\n",
    "        y_pred = booster.predict(valid)\n",
    "        rmse = mean_squared_error(y_val, y_pred, squared=False)\n",
    "        mlflow.log_metric(\"rmse\", rmse)\n",
    "\n",
    "        # Log preprocessor and model\n",
    "        with open(\"models/preprocessor.b\", \"wb\") as f_out:\n",
    "            pickle.dump(dv, f_out)\n",
    "        mlflow.log_artifact(\"models/preprocessor.b\", artifact_path=\"preprocessor\")\n",
    "\n",
    "        mlflow.xgboost.log_model(booster, artifact_path=\"models_mlflow\")\n"
   ]
  },
  {
   "cell_type": "code",
   "execution_count": null,
   "id": "24432595",
   "metadata": {},
   "outputs": [],
   "source": []
  }
 ],
 "metadata": {
  "kernelspec": {
   "display_name": "Python 3 (ipykernel)",
   "language": "python",
   "name": "python3"
  },
  "language_info": {
   "codemirror_mode": {
    "name": "ipython",
    "version": 3
   },
   "file_extension": ".py",
   "mimetype": "text/x-python",
   "name": "python",
   "nbconvert_exporter": "python",
   "pygments_lexer": "ipython3",
   "version": "3.9.12"
  }
 },
 "nbformat": 4,
 "nbformat_minor": 5
}
